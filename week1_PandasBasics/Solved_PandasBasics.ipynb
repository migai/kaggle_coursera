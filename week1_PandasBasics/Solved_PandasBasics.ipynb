{
  "nbformat": 4,
  "nbformat_minor": 0,
  "metadata": {
    "hw_version": "1.0.0",
    "kernelspec": {
      "display_name": "Python 3",
      "language": "python",
      "name": "python3"
    },
    "language_info": {
      "codemirror_mode": {
        "name": "ipython",
        "version": 3
      },
      "file_extension": ".py",
      "mimetype": "text/x-python",
      "name": "python",
      "nbconvert_exporter": "python",
      "pygments_lexer": "ipython3",
      "version": "3.6.0"
    },
    "colab": {
      "name": "Copy of PandasBasics.ipynb",
      "provenance": [],
      "collapsed_sections": []
    }
  },
  "cells": [
    {
      "cell_type": "markdown",
      "metadata": {
        "id": "O45CrQYS4_U0",
        "colab_type": "text"
      },
      "source": [
        "Version 1.0.1"
      ]
    },
    {
      "cell_type": "markdown",
      "metadata": {
        "id": "SqTXlD4B4_VG",
        "colab_type": "text"
      },
      "source": [
        "# Pandas basics "
      ]
    },
    {
      "cell_type": "markdown",
      "metadata": {
        "id": "wdd0qURF4_VM",
        "colab_type": "text"
      },
      "source": [
        "Hi! In this programming assignment you need to refresh your `pandas` knowledge. You will need to do several [`groupby`](https://pandas.pydata.org/pandas-docs/stable/generated/pandas.DataFrame.groupby.html)s and [`join`]()`s to solve the task. "
      ]
    },
    {
      "cell_type": "markdown",
      "metadata": {
        "id": "jrS_hHmTF47G",
        "colab_type": "text"
      },
      "source": [
        "See if I can run this thing from Google CoLab, because Coursera server is unreliable and slow"
      ]
    },
    {
      "cell_type": "code",
      "metadata": {
        "id": "QMYedrSvFSSD",
        "colab_type": "code",
        "colab": {
          "base_uri": "https://localhost:8080/",
          "height": 125
        },
        "outputId": "de9b9069-536b-4e36-aa14-d7118ed9e722"
      },
      "source": [
        "from google.colab import drive\n",
        "drive.mount('/content/drive')"
      ],
      "execution_count": 2,
      "outputs": [
        {
          "output_type": "stream",
          "text": [
            "Go to this URL in a browser: https://accounts.google.com/o/oauth2/auth?client_id=947318989803-6bn6qk8qdgf4n4g3pfee6491hc0brc4i.apps.googleusercontent.com&redirect_uri=urn%3aietf%3awg%3aoauth%3a2.0%3aoob&response_type=code&scope=email%20https%3a%2f%2fwww.googleapis.com%2fauth%2fdocs.test%20https%3a%2f%2fwww.googleapis.com%2fauth%2fdrive%20https%3a%2f%2fwww.googleapis.com%2fauth%2fdrive.photos.readonly%20https%3a%2f%2fwww.googleapis.com%2fauth%2fpeopleapi.readonly\n",
            "\n",
            "Enter your authorization code:\n",
            "··········\n",
            "Mounted at /content/drive\n"
          ],
          "name": "stdout"
        }
      ]
    },
    {
      "cell_type": "code",
      "metadata": {
        "id": "81pSO5RwMG9P",
        "colab_type": "code",
        "colab": {
          "base_uri": "https://localhost:8080/",
          "height": 34
        },
        "outputId": "dead09b4-35ce-4f85-b97f-551565b85750"
      },
      "source": [
        "%cd /content/drive/My Drive/Colab Notebooks/NRUHSE_2_Kaggle_Coursera/week1_PandasBasics"
      ],
      "execution_count": 3,
      "outputs": [
        {
          "output_type": "stream",
          "text": [
            "/content/drive/My Drive/Colab Notebooks/NRUHSE_2_Kaggle_Coursera/week1_PandasBasics\n"
          ],
          "name": "stdout"
        }
      ]
    },
    {
      "cell_type": "code",
      "metadata": {
        "id": "RBqnDmyQ4_VP",
        "colab_type": "code",
        "colab": {}
      },
      "source": [
        "import pandas as pd\n",
        "import numpy as np\n",
        "import os\n",
        "import matplotlib.pyplot as plt\n",
        "%matplotlib inline \n",
        "\n",
        "from grader import Grader"
      ],
      "execution_count": 0,
      "outputs": []
    },
    {
      "cell_type": "code",
      "metadata": {
        "id": "kMUDSjz24_Vo",
        "colab_type": "code",
        "colab": {}
      },
      "source": [
        "DATA_FOLDER = '../readonly/final_project_data/'\n",
        "\n",
        "transactions    = pd.read_csv(os.path.join(DATA_FOLDER, 'sales_train.csv.gz'))\n",
        "items           = pd.read_csv(os.path.join(DATA_FOLDER, 'items.csv'))\n",
        "item_categories = pd.read_csv(os.path.join(DATA_FOLDER, 'item_categories.csv'))\n",
        "shops           = pd.read_csv(os.path.join(DATA_FOLDER, 'shops.csv'))\n"
      ],
      "execution_count": 0,
      "outputs": []
    },
    {
      "cell_type": "markdown",
      "metadata": {
        "id": "hYHnJMyv4_WB",
        "colab_type": "text"
      },
      "source": [
        "The dataset we are going to use is taken from the competition, that serves as the final project for this course. You can find complete data description at the [competition web page](https://www.kaggle.com/c/competitive-data-science-final-project/data). To join the competition use [this link](https://www.kaggle.com/t/1ea93815dca248e99221df42ebde3540)."
      ]
    },
    {
      "cell_type": "markdown",
      "metadata": {
        "id": "pkRuJ05N4_WE",
        "colab_type": "text"
      },
      "source": [
        "## Grading"
      ]
    },
    {
      "cell_type": "markdown",
      "metadata": {
        "id": "AcEZ2g4B4_WH",
        "colab_type": "text"
      },
      "source": [
        "We will create a grader instace below and use it to collect your answers. When function `submit_tag` is called, grader will store your answer *locally*. The answers will *not* be submited to the platform immediately so you can call `submit_tag` function as many times as you need. \n",
        "\n",
        "When you are ready to push your answers to the platform you should fill your credentials and run `submit` function in the <a href=\"#Authorization-&-Submission\">last paragraph</a>  of the assignment."
      ]
    },
    {
      "cell_type": "code",
      "metadata": {
        "id": "VAnFqUKx4_WN",
        "colab_type": "code",
        "colab": {}
      },
      "source": [
        "grader = Grader()"
      ],
      "execution_count": 0,
      "outputs": []
    },
    {
      "cell_type": "markdown",
      "metadata": {
        "id": "-cDIYs6f4_Wj",
        "colab_type": "text"
      },
      "source": [
        "# Task"
      ]
    },
    {
      "cell_type": "markdown",
      "metadata": {
        "id": "OOb8ETJH4_Wp",
        "colab_type": "text"
      },
      "source": [
        "Let's start with a simple task. \n",
        "\n",
        "<ol start=\"0\">\n",
        "  <li><b>Print the shape of the loaded dataframes and use [`df.head`](https://pandas.pydata.org/pandas-docs/stable/generated/pandas.DataFrame.head.html) function to print several rows. Examine the features you are given.</b></li>\n",
        "</ol>"
      ]
    },
    {
      "cell_type": "code",
      "metadata": {
        "id": "bq6osQoX4_Ws",
        "colab_type": "code",
        "colab": {
          "base_uri": "https://localhost:8080/",
          "height": 585
        },
        "outputId": "0b4f0605-cd97-495d-ab57-72ca8cd10f5f"
      },
      "source": [
        "# YOUR CODE GOES HERE\n",
        "print(\"transactions Shape: \" + str(transactions.shape))\n",
        "print(str(transactions.head(4)))\n",
        "print()\n",
        "print()\n",
        "print(\"items Shape: \" + str(items.shape))\n",
        "print(str(items.head(4)))\n",
        "print()\n",
        "print()\n",
        "print(\"item_categories Shape: \" + str(item_categories.shape))\n",
        "print(str(item_categories.head(4)))\n",
        "print()\n",
        "print()\n",
        "print(\"shops Shape: \" + str(shops.shape))\n",
        "print(str(shops.head(4)))\n",
        "print()\n",
        "print()"
      ],
      "execution_count": 6,
      "outputs": [
        {
          "output_type": "stream",
          "text": [
            "transactions Shape: (2935849, 6)\n",
            "         date  date_block_num  shop_id  item_id  item_price  item_cnt_day\n",
            "0  02.01.2013               0       59    22154      999.00           1.0\n",
            "1  03.01.2013               0       25     2552      899.00           1.0\n",
            "2  05.01.2013               0       25     2552      899.00          -1.0\n",
            "3  06.01.2013               0       25     2554     1709.05           1.0\n",
            "\n",
            "\n",
            "items Shape: (22170, 3)\n",
            "                                           item_name  item_id  item_category_id\n",
            "0          ! ВО ВЛАСТИ НАВАЖДЕНИЯ (ПЛАСТ.)         D        0                40\n",
            "1  !ABBYY FineReader 12 Professional Edition Full...        1                76\n",
            "2      ***В ЛУЧАХ СЛАВЫ   (UNV)                    D        2                40\n",
            "3    ***ГОЛУБАЯ ВОЛНА  (Univ)                      D        3                40\n",
            "\n",
            "\n",
            "item_categories Shape: (84, 2)\n",
            "        item_category_name  item_category_id\n",
            "0  PC - Гарнитуры/Наушники                 0\n",
            "1         Аксессуары - PS2                 1\n",
            "2         Аксессуары - PS3                 2\n",
            "3         Аксессуары - PS4                 3\n",
            "\n",
            "\n",
            "shops Shape: (60, 2)\n",
            "                        shop_name  shop_id\n",
            "0   !Якутск Орджоникидзе, 56 фран        0\n",
            "1   !Якутск ТЦ \"Центральный\" фран        1\n",
            "2                Адыгея ТЦ \"Мега\"        2\n",
            "3  Балашиха ТРК \"Октябрь-Киномир\"        3\n",
            "\n",
            "\n"
          ],
          "name": "stdout"
        }
      ]
    },
    {
      "cell_type": "markdown",
      "metadata": {
        "id": "-bOE_mjW4_W9",
        "colab_type": "text"
      },
      "source": [
        "Now use your `pandas` skills to get answers for the following questions. \n",
        "The first question is:\n",
        "\n",
        "1. ** What was the maximum total revenue among all the shops in September, 2014?** \n",
        "\n",
        "\n",
        "* Hereinafter *revenue* refers to total sales minus value of goods returned.\n",
        "\n",
        "*Hints:*\n",
        "\n",
        "* Sometimes items are returned, find such examples in the dataset. \n",
        "* It is handy to split `date` field into [`day`, `month`, `year`] components and use `df.year == 14` and `df.month == 9` in order to select target subset of dates.\n",
        "* You may work with `date` feature as with srings, or you may first convert it to `pd.datetime` type with `pd.to_datetime` function, but do not forget to set correct `format` argument."
      ]
    },
    {
      "cell_type": "code",
      "metadata": {
        "id": "m4npoRX64_XB",
        "colab_type": "code",
        "colab": {
          "base_uri": "https://localhost:8080/",
          "height": 34
        },
        "outputId": "b013e81a-d5fb-4c80-c5a4-852311b7e12e"
      },
      "source": [
        "# YOUR CODE GOES HERE\n",
        "\n",
        "# ensure transaction date column is in the proper format\n",
        "transactions['date'] = pd.to_datetime(transactions['date'], format = '%d.%m.%Y')\n",
        "\n",
        "# create a revenue column\n",
        "transactions['revenue'] = transactions['item_price'] * transactions['item_cnt_day']\n",
        "\n",
        "# make a new dataframe that only includes Sept 2014\n",
        "trans2014sept = transactions.loc[:][(transactions['date'] >= pd.Timestamp(year=2014, month=9, day=1)) \n",
        "           & (transactions['date'] < pd.Timestamp(year=2014, month=10, day=1))]\n",
        "\n",
        "# group by shop_id, summing the revenues, and find the max to submit\n",
        "max_revenue = trans2014sept.groupby(['shop_id'])['revenue'].sum().max() # PUT YOUR ANSWER IN THIS VARIABLE\n",
        "grader.submit_tag('max_revenue', max_revenue)"
      ],
      "execution_count": 7,
      "outputs": [
        {
          "output_type": "stream",
          "text": [
            "Current answer for task max_revenue is: 7982852.199999956\n"
          ],
          "name": "stdout"
        }
      ]
    },
    {
      "cell_type": "markdown",
      "metadata": {
        "id": "Z4Xobsnk4_XN",
        "colab_type": "text"
      },
      "source": [
        "Great! Let's move on and answer another question:\n",
        "\n",
        "<ol start=\"2\">\n",
        "  <li><b>What item category generated the highest revenue in summer 2014?</b></li>\n",
        "</ol>\n",
        "\n",
        "* Submit `id` of the category found.\n",
        "    \n",
        "* Here we call \"summer\" the period from June to August.\n",
        "\n",
        "*Hints:*\n",
        "\n",
        "* Note, that for an object `x` of type `pd.Series`: `x.argmax()` returns **index** of the maximum element. `pd.Series` can have non-trivial index (not `[1, 2, 3, ... ]`)."
      ]
    },
    {
      "cell_type": "code",
      "metadata": {
        "id": "oabUC3wz4_XP",
        "colab_type": "code",
        "colab": {
          "base_uri": "https://localhost:8080/",
          "height": 34
        },
        "outputId": "1657001d-b0c4-4e8f-8b23-41e9e0d596e9"
      },
      "source": [
        "# YOUR CODE GOES HERE\n",
        "\n",
        "# make a new dataframe that only includes Summer 2014\n",
        "trans2014summer = transactions.loc[:][(transactions['date'] >= pd.Timestamp(year=2014, month=6, day=1)) \n",
        "           & (transactions['date'] < pd.Timestamp(year=2014, month=9, day=1))]\n",
        "\n",
        "# use item_id and the items dataframe to create an item_category_id column in the summer dataframe\n",
        "# don't need item name, so use right merge as items[items.columns[1:]]\n",
        "t14s = pd.merge(trans2014summer, items[items.columns[1:]], how = 'left', on = 'item_id')\n",
        "\n",
        "# group by item_category_id and sum the revenues\n",
        "t14s_g = t14s.groupby(['item_category_id'])['revenue'].sum()\n",
        "# convert to a dataframe with proper indexing\n",
        "tx = t14s_g.to_frame().reset_index()\n",
        "# find argmax index on revenue column, and use that with the reset index to find the proper category id\n",
        "category_id_with_max_revenue = tx['item_category_id'][tx['revenue'].values.argmax()]   # PUT YOUR ANSWER IN THIS VARIABLE\n",
        "grader.submit_tag('category_id_with_max_revenue', category_id_with_max_revenue)"
      ],
      "execution_count": 8,
      "outputs": [
        {
          "output_type": "stream",
          "text": [
            "Current answer for task category_id_with_max_revenue is: 20\n"
          ],
          "name": "stdout"
        }
      ]
    },
    {
      "cell_type": "markdown",
      "metadata": {
        "id": "ph1LfqpD4_XX",
        "colab_type": "text"
      },
      "source": [
        "<ol start=\"3\">\n",
        "  <li><b>How many items are there, such that their price stays constant (to the best of our knowledge) during the whole period of time?</b></li>\n",
        "</ol>\n",
        "\n",
        "* Let's assume, that the items are returned for the same price as they had been sold."
      ]
    },
    {
      "cell_type": "code",
      "metadata": {
        "id": "OjrWJvww4_Xa",
        "colab_type": "code",
        "colab": {
          "base_uri": "https://localhost:8080/",
          "height": 34
        },
        "outputId": "55ec4688-ce36-40c1-f24e-c3fec9218045"
      },
      "source": [
        "# YOUR CODE GOES HERE\n",
        "\n",
        "# assuming items are returned for same price as sold, we can ignore any negative item_cnt_day issues\n",
        "# make a simple data frame with just the item_id and item_price columns, grouping by item_id and computing std of item_price:\n",
        "id_stds = transactions.groupby(['item_id'])[['item_price']].std().rename(columns={'item_price': 'price_std'})\n",
        "\n",
        "# we are looking for all items that have std = 0 for the prices of the different transactions\n",
        "# items that only have 0 or 1 transaction give a std = NaN... 1 transaction = constant price, so we will count them\n",
        "id_stds['price_std'].fillna(0, inplace=True)\n",
        "\n",
        "# number of items with constant price is finally compututed \n",
        "# with .sum() function given the conditional that the price_std column element == 0\n",
        "num_items_constant_price = (id_stds.price_std == 0).sum() # PUT YOUR ANSWER IN THIS VARIABLE\n",
        "grader.submit_tag('num_items_constant_price', num_items_constant_price)"
      ],
      "execution_count": 27,
      "outputs": [
        {
          "output_type": "stream",
          "text": [
            "Current answer for task num_items_constant_price is: 5926\n"
          ],
          "name": "stdout"
        }
      ]
    },
    {
      "cell_type": "markdown",
      "metadata": {
        "id": "-HtJB4vK4_Xo",
        "colab_type": "text"
      },
      "source": [
        "Remember, the data can sometimes be noisy."
      ]
    },
    {
      "cell_type": "markdown",
      "metadata": {
        "id": "FH-dwFRz4_Xq",
        "colab_type": "text"
      },
      "source": [
        "<ol start=\"4\">\n",
        "  <li><b>What was the variance of the number of sold items per day sequence for the shop with `shop_id = 25` in December, 2014?</b></li>\n",
        "</ol>\n",
        "\n",
        "* Fill `total_num_items_sold` and `days` arrays, and plot the sequence with the code below.\n",
        "* Then compute variance. Remember, there can be differences in how you normalize variance (biased or unbiased estimate, see [link](https://math.stackexchange.com/questions/496627/the-difference-between-unbiased-biased-estimator-variance)). Compute ***unbiased*** estimate (use the right value for `ddof` argument in `pd.var` or `np.var`)."
      ]
    },
    {
      "cell_type": "code",
      "metadata": {
        "id": "a3ToyxQudWIz",
        "colab_type": "code",
        "colab": {
          "base_uri": "https://localhost:8080/",
          "height": 312
        },
        "outputId": "2be00878-43bb-46e2-877b-1acc18c30f76"
      },
      "source": [
        "# any comments with 4 hashtags in front are how I think this assignment should be done\n",
        "# but, I don't get the accepted answer unless I fudge things as done below\n",
        "\n",
        "shop_id = 25\n",
        "\n",
        "# get counts of total number of items sold each day, for shop 25, in Dec 2014\n",
        "# note: this returns a dataframe with index of type \"datetime\"\n",
        "shop25dec2014 = transactions.loc[:][(transactions['shop_id'] == shop_id)  \n",
        "          & (transactions['date'] >= pd.Timestamp(year=2014, month=12, day=1)) \n",
        "          & (transactions['date'] < pd.Timestamp(year=2015, month=1, day=1))]. \\\n",
        "          groupby(['date'])[['item_cnt_day']].sum().  \\\n",
        "          rename(columns={'item_cnt_day': 'daily_total_items_sold'})\n",
        "\n",
        "# because some days may have zero item_cnt_day values, that day will not be in the above dataframe\n",
        "# to be sure I create a variance over ALL days in Dec 2014, I will combine the above dataframe with\n",
        "#    one that has all 31 days in it, also using index of type \"datetime\" but day column is integer (for plotting)\n",
        "# create the second dataframe with all 31 days of Dec 2014 in it:\n",
        "days_df = pd.DataFrame(data={'days':list(range(1,32,1)), 'daily_total_items_sold': np.zeros(31)}, index = pd.date_range(start='12/1/2014', end='12/31/2014'))\n",
        "\n",
        "# adding together the dataframes keeps the indexes matched, and missing days in the \n",
        "#    shop25dec2014 dataframe are matched with values of zero for number of items sold in the days_df dataframe\n",
        "#    so the resultant value for that date is zero.  Otherwise, the resultant value is the sum of items sold (+ 0)\n",
        "shop25dec2014all = days_df.add(shop25dec2014, fill_value=0)\n",
        "\n",
        "# Plot it\n",
        "plt.plot(shop25dec2014all.days, shop25dec2014all.daily_total_items_sold)\n",
        "plt.ylabel('Num items')\n",
        "plt.xlabel('Day')\n",
        "plt.title(\"Daily revenue for shop_id = 25\")\n",
        "plt.show()\n",
        "\n",
        "# compute the variance of the column of interest:  (note, unbiased variance is default in pandas function)\n",
        "####total_num_items_sold_var = shop25dec2014all.loc[:,\"daily_total_items_sold\"].var()  # PUT YOUR ANSWER IN THIS VARIABLE\n",
        "#### #Current answer for task total_num_items_sold_var is: 118646.84516129032\n",
        "\n",
        "\n",
        "# grader doesn't like this variance, so let's try again, without adding in days with zero sales:\n",
        "total_num_items_sold_var = shop25dec2014.loc[:,\"daily_total_items_sold\"].var()\n",
        "grader.submit_tag('total_num_items_sold_var', total_num_items_sold_var)\n",
        "# Current answer for task total_num_items_sold_var is: 117167.70229885059   <--- Coursera likes this answer"
      ],
      "execution_count": 78,
      "outputs": [
        {
          "output_type": "display_data",
          "data": {
            "image/png": "[encoded data removed]",
            "text/plain": [
              "<Figure size 432x288 with 1 Axes>"
            ]
          },
          "metadata": {
            "tags": []
          }
        },
        {
          "output_type": "stream",
          "text": [
            "Current answer for task total_num_items_sold_var is: 117167.70229885059\n"
          ],
          "name": "stdout"
        }
      ]
    },
    {
      "cell_type": "markdown",
      "metadata": {
        "id": "oxpRhYvi3bgt",
        "colab_type": "text"
      },
      "source": [
        "## **New Question 4 instructions that appeared after I started working on this notebook:**\n",
        "\n",
        "\n",
        "<ol start=\"4\">\n",
        "  <li><b>What was the variance of the number of sold items per day sequence for the shop with `shop_id = 25` in December, 2014? Do not count the items, that were sold but returned back later.</b></li>\n",
        "</ol>\n",
        "\n",
        "* Fill `total_num_items_sold` and `days` arrays, and plot the sequence with the code below.\n",
        "* Then compute variance. Remember, there can be differences in how you normalize variance (biased or unbiased estimate, see [link](https://math.stackexchange.com/questions/496627/the-difference-between-unbiased-biased-estimator-variance)). Compute ***unbiased*** estimate (use the right value for `ddof` argument in `pd.var` or `np.var`). \n",
        "* If there were no sales at a given day, ***do not*** impute missing value with zero, just ignore that day"
      ]
    },
    {
      "cell_type": "markdown",
      "metadata": {
        "id": "6JqXisfW4_X1",
        "colab_type": "text"
      },
      "source": [
        "## Authorization & Submission\n",
        "To submit assignment to Cousera platform, please, enter your e-mail and token into the variables below. You can generate token on the programming assignment page. *Note:* Token expires 30 minutes after generation."
      ]
    },
    {
      "cell_type": "code",
      "metadata": {
        "id": "hxMvccBG4_X3",
        "colab_type": "code",
        "colab": {
          "base_uri": "https://localhost:8080/",
          "height": 105
        },
        "outputId": "67b4f9f8-e630-4ab5-ddda-5fff11beb56e"
      },
      "source": [
        "STUDENT_EMAIL = \"gaidis@alum.mit.edu\" # EMAIL HERE\n",
        "STUDENT_TOKEN = \"Iw6W5bpDzqvqMUDM\" # TOKEN HERE\n",
        "grader.status()"
      ],
      "execution_count": 79,
      "outputs": [
        {
          "output_type": "stream",
          "text": [
            "You want to submit these numbers:\n",
            "Task max_revenue: 7982852.199999956\n",
            "Task category_id_with_max_revenue: 20\n",
            "Task num_items_constant_price: 5926\n",
            "Task total_num_items_sold_var: 117167.70229885059\n"
          ],
          "name": "stdout"
        }
      ]
    },
    {
      "cell_type": "code",
      "metadata": {
        "id": "MmOsclvk4_X_",
        "colab_type": "code",
        "colab": {
          "base_uri": "https://localhost:8080/",
          "height": 34
        },
        "outputId": "79dc81b8-611f-4f22-89fc-be059276135a"
      },
      "source": [
        "grader.submit(STUDENT_EMAIL, STUDENT_TOKEN)"
      ],
      "execution_count": 80,
      "outputs": [
        {
          "output_type": "stream",
          "text": [
            "Submitted to Coursera platform. See results on assignment page!\n"
          ],
          "name": "stdout"
        }
      ]
    },
    {
      "cell_type": "markdown",
      "metadata": {
        "id": "ZkFfNX6Z4_YN",
        "colab_type": "text"
      },
      "source": [
        "Well done! :)"
      ]
    }
  ]
}